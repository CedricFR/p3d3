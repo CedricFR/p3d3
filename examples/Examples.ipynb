{
 "cells": [
  {
   "cell_type": "code",
   "execution_count": 2,
   "metadata": {},
   "outputs": [],
   "source": [
    "import p3d3"
   ]
  },
  {
   "cell_type": "code",
   "execution_count": 3,
   "metadata": {},
   "outputs": [],
   "source": [
    "import pandas as pd"
   ]
  },
  {
   "cell_type": "code",
   "execution_count": null,
   "metadata": {},
   "outputs": [],
   "source": []
  },
  {
   "cell_type": "code",
   "execution_count": 4,
   "metadata": {},
   "outputs": [
    {
     "data": {
      "text/html": [
       "<script>\n",
       "requirejs.config({\n",
       "    paths: {\n",
       "        d3: \"//cdnjs.cloudflare.com/ajax/libs/d3/4.13.0/d3\",\n",
       "        vg: \"https://cdn.jsdelivr.net/npm/vega@3.0.10?noext\",\n",
       "        vl: \"https://cdn.jsdelivr.net/npm/vega-lite@2.1.3?noext\",\n",
       "        vg_embed: \"https://cdn.jsdelivr.net/npm/vega-embed@3.0.0?noext\"\n",
       "    },\n",
       "    shim: {\n",
       "        vg_embed: {deps: [\"vg.global\", \"vl.global\"]},\n",
       "        vl: {deps: [\"vg\"]},\n",
       "        vg: {deps: [\"d3\"]}\n",
       "    }\n",
       "});\n",
       "require(['d3'], function(d3) {\n",
       "    window.d3 = d3;\n",
       "});\n",
       "\n",
       "define('vg.global', ['vg'], function(vgGlobal) {\n",
       "    window.vega = vgGlobal;\n",
       "});\n",
       "\n",
       "define('vl.global', ['vl'], function(vlGlobal) {\n",
       "    window.vl = vlGlobal;\n",
       "});\n",
       "\n",
       "require([\"vg_embed\"], function(vg_embed) {\n",
       "    window.vg_embed = vg_embed;\n",
       "});\n",
       "</script>"
      ],
      "text/plain": [
       "<IPython.core.display.HTML object>"
      ]
     },
     "metadata": {},
     "output_type": "display_data"
    }
   ],
   "source": [
    "# Load D3 & Vegalite\n",
    "p3d3.init()"
   ]
  },
  {
   "cell_type": "code",
   "execution_count": null,
   "metadata": {},
   "outputs": [],
   "source": []
  },
  {
   "cell_type": "markdown",
   "metadata": {},
   "source": [
    "# Example Bar Chart"
   ]
  },
  {
   "cell_type": "code",
   "execution_count": 5,
   "metadata": {},
   "outputs": [],
   "source": [
    "mtgear = pd.read_csv('https://raw.github.com/vincentarelbundock/Rdatasets/master/csv/datasets/mtcars.csv')"
   ]
  },
  {
   "cell_type": "code",
   "execution_count": 6,
   "metadata": {},
   "outputs": [],
   "source": [
    "cntpergear = mtgear.groupby([\"gear\"]).agg({'mpg': 'count'}).reset_index().rename(columns={'gear': 'x', 'mpg': 'y'})"
   ]
  },
  {
   "cell_type": "code",
   "execution_count": null,
   "metadata": {},
   "outputs": [],
   "source": []
  },
  {
   "cell_type": "code",
   "execution_count": 7,
   "metadata": {},
   "outputs": [
    {
     "data": {
      "text/html": [
       "\n",
       "        <svg id=\"a93dd1fa0-6493-424c-b15d-75c9782f6338\"></svg>\n",
       "        <script type=\"text/javascript\">\n",
       "\t(function() {\n",
       "        function main(svg, data, params, viewWidth, viewHeight)\n",
       "{\n",
       "  var margin = {top: 20, right: 30, bottom: 30, left: 40},\n",
       "      width = viewWidth - margin.left - margin.right,\n",
       "      height = viewHeight - margin.top - margin.bottom;\n",
       "\n",
       "   // from: https://bl.ocks.org/d3noob/bdf28027e0ce70bd132edc64f1dd7ea4\n",
       "   var x = d3.scaleBand()\n",
       "              .range([0, width])\n",
       "              .padding(0.1);\n",
       "    var y = d3.scaleLinear()\n",
       "              .range([height, 0]);\n",
       "\n",
       "    // append the svg object to the body of the page\n",
       "    // append a 'group' element to 'svg'\n",
       "    // moves the 'group' element to the top left margin\n",
       "    var chart = svg\n",
       "        .attr(\"width\", width + margin.left + margin.right)\n",
       "        .attr(\"height\", height + margin.top + margin.bottom)\n",
       "      .append(\"g\")\n",
       "        .attr(\"transform\",\n",
       "              \"translate(\" + margin.left + \",\" + margin.top + \")\");\n",
       "\n",
       "\n",
       "      // format the data\n",
       "      data.forEach(function(d) {\n",
       "        d.y = +d.y;\n",
       "      });\n",
       "\n",
       "      // Scale the range of the data in the domains\n",
       "      x.domain(data.map(function(d) { return d.x; }));\n",
       "      y.domain([0, d3.max(data, function(d) { return d.y; })]);\n",
       "\n",
       "      // append the rectangles for the bar chart\n",
       "      chart.selectAll(\".bar\")\n",
       "          .data(data)\n",
       "        .enter().append(\"rect\")\n",
       "          .attr(\"fill\", \"steelblue\")\n",
       "          .attr(\"x\", function(d) { return x(d.x); })\n",
       "          .attr(\"width\", x.bandwidth())\n",
       "          .attr(\"y\", function(d) { return y(d.y); })\n",
       "          .attr(\"height\", function(d) { return height - y(d.y); });\n",
       "\n",
       "      // add the x Axis\n",
       "      chart.append(\"g\")\n",
       "          .attr(\"transform\", \"translate(0,\" + height + \")\")\n",
       "          .call(d3.axisBottom(x));\n",
       "\n",
       "      // add the y Axis\n",
       "      chart.append(\"g\")\n",
       "          .call(d3.axisLeft(y).ticks(10));\n",
       "}\n",
       "\n",
       "\n",
       "        main(d3.select(\"#a93dd1fa0-6493-424c-b15d-75c9782f6338\"), [{\"x\":3,\"y\":15},{\"x\":4,\"y\":12},{\"x\":5,\"y\":5}], {}, 800, 500);\n",
       "        })();\n",
       "        </script>"
      ],
      "text/plain": [
       "<IPython.core.display.HTML object>"
      ]
     },
     "metadata": {},
     "output_type": "display_data"
    }
   ],
   "source": [
    "p3d3.p3d3(cntpergear, \"bar.js\")"
   ]
  },
  {
   "cell_type": "code",
   "execution_count": null,
   "metadata": {},
   "outputs": [],
   "source": []
  },
  {
   "cell_type": "markdown",
   "metadata": {},
   "source": [
    "# Example Dendogram"
   ]
  },
  {
   "cell_type": "code",
   "execution_count": 8,
   "metadata": {},
   "outputs": [],
   "source": [
    "dendo = pd.read_csv(\"https://raw.githubusercontent.com/d3/d3-hierarchy/master/test/data/flare.csv\")"
   ]
  },
  {
   "cell_type": "code",
   "execution_count": 9,
   "metadata": {},
   "outputs": [
    {
     "data": {
      "text/html": [
       "\n",
       "        <svg id=\"ac6c04da8-0d98-4596-89ef-2a1d4a0b6798\"></svg>\n",
       "        <script type=\"text/javascript\">\n",
       "\t(function() {\n",
       "        function main(svg, data, params, viewWidth, viewHeight)\n",
       "{\n",
       "  var margin = {top: 20, right: 30, bottom: 30, left: 40},\n",
       "      width = viewWidth - margin.left - margin.right,\n",
       "      height = viewHeight - margin.top - margin.bottom;\n",
       "\n",
       "  var chart = svg\n",
       "        .attr(\"width\", width + margin.left + margin.right)\n",
       "        .attr(\"height\", height + margin.top + margin.bottom)\n",
       "      .append(\"g\")\n",
       "        .attr(\"transform\",\n",
       "              \"translate(\" + margin.left + \",\" + margin.top + \")\");\n",
       "\n",
       "// from: https://bl.ocks.org/mbostock/ff91c1558bc570b08539547ccc90050b\n",
       "var cluster = d3.cluster()\n",
       "    .size([height, width - 160]);\n",
       "\n",
       "var stratify = d3.stratify()\n",
       "    .parentId(function(d) { return d.id.substring(0, d.id.lastIndexOf(\".\")); });\n",
       "\n",
       "var root = stratify(data)\n",
       "      .sort(function(a, b) { return (a.height - b.height) || a.id.localeCompare(b.id); });\n",
       "\n",
       "  cluster(root);\n",
       "\n",
       "  var link = chart.selectAll(\".link\")\n",
       "      .data(root.descendants().slice(1))\n",
       "    .enter().append(\"path\")\n",
       "      .attr(\"class\", \"link\")\n",
       "      .attr(\"fill\", \"none\")\n",
       "      .attr(\"stroke\", \"#555\")\n",
       "      .attr(\"stroke-opacity\", 0.4)\n",
       "      .attr(\"stroke-width\", 1.5)\n",
       "      .attr(\"d\", function(d) {\n",
       "        return \"M\" + d.y + \",\" + d.x\n",
       "            + \"C\" + (d.parent.y + 100) + \",\" + d.x\n",
       "            + \" \" + (d.parent.y + 100) + \",\" + d.parent.x\n",
       "            + \" \" + d.parent.y + \",\" + d.parent.x;\n",
       "      });\n",
       "\n",
       "  var node = chart.selectAll(\".node\")\n",
       "      .data(root.descendants())\n",
       "    .enter().append(\"g\")\n",
       "      .attr(\"class\", function(d) { return \"node\" + (d.children ? \" node--internal\" : \" node--leaf\"); })\n",
       "      .attr(\"transform\", function(d) { return \"translate(\" + d.y + \",\" + d.x + \")\"; })\n",
       "\n",
       "  node.append(\"circle\")\n",
       "      .attr(\"r\", 2.5);\n",
       "\n",
       "  node.append(\"text\")\n",
       "      .attr(\"dy\", 3)\n",
       "      .attr(\"x\", function(d) { return d.children ? -8 : 8; })\n",
       "      .style(\"text-anchor\", function(d) { return d.children ? \"end\" : \"start\"; })\n",
       "      .text(function(d) { return d.id.substring(d.id.lastIndexOf(\".\") + 1); })\n",
       "      .style(\"font\", \"10px sans-serif\");\n",
       "}\n",
       "\n",
       "\n",
       "        main(d3.select(\"#ac6c04da8-0d98-4596-89ef-2a1d4a0b6798\"), [{\"id\":\"flare\",\"value\":null},{\"id\":\"flare.analytics\",\"value\":null},{\"id\":\"flare.analytics.cluster\",\"value\":null},{\"id\":\"flare.analytics.cluster.AgglomerativeCluster\",\"value\":3938.0},{\"id\":\"flare.analytics.cluster.CommunityStructure\",\"value\":3812.0},{\"id\":\"flare.analytics.cluster.HierarchicalCluster\",\"value\":6714.0},{\"id\":\"flare.analytics.cluster.MergeEdge\",\"value\":743.0},{\"id\":\"flare.analytics.graph\",\"value\":null},{\"id\":\"flare.analytics.graph.BetweennessCentrality\",\"value\":3534.0},{\"id\":\"flare.analytics.graph.LinkDistance\",\"value\":5731.0},{\"id\":\"flare.analytics.graph.MaxFlowMinCut\",\"value\":7840.0},{\"id\":\"flare.analytics.graph.ShortestPaths\",\"value\":5914.0},{\"id\":\"flare.analytics.graph.SpanningTree\",\"value\":3416.0},{\"id\":\"flare.analytics.optimization\",\"value\":null},{\"id\":\"flare.analytics.optimization.AspectRatioBanker\",\"value\":7074.0},{\"id\":\"flare.animate\",\"value\":null},{\"id\":\"flare.animate.Easing\",\"value\":17010.0},{\"id\":\"flare.animate.FunctionSequence\",\"value\":5842.0},{\"id\":\"flare.animate.interpolate\",\"value\":null},{\"id\":\"flare.animate.interpolate.ArrayInterpolator\",\"value\":1983.0},{\"id\":\"flare.animate.interpolate.ColorInterpolator\",\"value\":2047.0},{\"id\":\"flare.animate.interpolate.DateInterpolator\",\"value\":1375.0},{\"id\":\"flare.animate.interpolate.Interpolator\",\"value\":8746.0},{\"id\":\"flare.animate.interpolate.MatrixInterpolator\",\"value\":2202.0},{\"id\":\"flare.animate.interpolate.NumberInterpolator\",\"value\":1382.0},{\"id\":\"flare.animate.interpolate.ObjectInterpolator\",\"value\":1629.0},{\"id\":\"flare.animate.interpolate.PointInterpolator\",\"value\":1675.0},{\"id\":\"flare.animate.interpolate.RectangleInterpolator\",\"value\":2042.0},{\"id\":\"flare.animate.ISchedulable\",\"value\":1041.0},{\"id\":\"flare.animate.Parallel\",\"value\":5176.0},{\"id\":\"flare.animate.Pause\",\"value\":449.0},{\"id\":\"flare.animate.Scheduler\",\"value\":5593.0},{\"id\":\"flare.animate.Sequence\",\"value\":5534.0},{\"id\":\"flare.animate.Transition\",\"value\":9201.0},{\"id\":\"flare.animate.Transitioner\",\"value\":19975.0},{\"id\":\"flare.animate.TransitionEvent\",\"value\":1116.0},{\"id\":\"flare.animate.Tween\",\"value\":6006.0},{\"id\":\"flare.data\",\"value\":null},{\"id\":\"flare.data.converters\",\"value\":null},{\"id\":\"flare.data.converters.Converters\",\"value\":721.0},{\"id\":\"flare.data.converters.DelimitedTextConverter\",\"value\":4294.0},{\"id\":\"flare.data.converters.GraphMLConverter\",\"value\":9800.0},{\"id\":\"flare.data.converters.IDataConverter\",\"value\":1314.0},{\"id\":\"flare.data.converters.JSONConverter\",\"value\":2220.0},{\"id\":\"flare.data.DataField\",\"value\":1759.0},{\"id\":\"flare.data.DataSchema\",\"value\":2165.0},{\"id\":\"flare.data.DataSet\",\"value\":586.0},{\"id\":\"flare.data.DataSource\",\"value\":3331.0},{\"id\":\"flare.data.DataTable\",\"value\":772.0},{\"id\":\"flare.data.DataUtil\",\"value\":3322.0},{\"id\":\"flare.display\",\"value\":null},{\"id\":\"flare.display.DirtySprite\",\"value\":8833.0},{\"id\":\"flare.display.LineSprite\",\"value\":1732.0},{\"id\":\"flare.display.RectSprite\",\"value\":3623.0},{\"id\":\"flare.display.TextSprite\",\"value\":10066.0},{\"id\":\"flare.flex\",\"value\":null},{\"id\":\"flare.flex.FlareVis\",\"value\":4116.0},{\"id\":\"flare.physics\",\"value\":null},{\"id\":\"flare.physics.DragForce\",\"value\":1082.0},{\"id\":\"flare.physics.GravityForce\",\"value\":1336.0},{\"id\":\"flare.physics.IForce\",\"value\":319.0},{\"id\":\"flare.physics.NBodyForce\",\"value\":10498.0},{\"id\":\"flare.physics.Particle\",\"value\":2822.0},{\"id\":\"flare.physics.Simulation\",\"value\":9983.0},{\"id\":\"flare.physics.Spring\",\"value\":2213.0},{\"id\":\"flare.physics.SpringForce\",\"value\":1681.0},{\"id\":\"flare.query\",\"value\":null},{\"id\":\"flare.query.AggregateExpression\",\"value\":1616.0},{\"id\":\"flare.query.And\",\"value\":1027.0},{\"id\":\"flare.query.Arithmetic\",\"value\":3891.0},{\"id\":\"flare.query.Average\",\"value\":891.0},{\"id\":\"flare.query.BinaryExpression\",\"value\":2893.0},{\"id\":\"flare.query.Comparison\",\"value\":5103.0},{\"id\":\"flare.query.CompositeExpression\",\"value\":3677.0},{\"id\":\"flare.query.Count\",\"value\":781.0},{\"id\":\"flare.query.DateUtil\",\"value\":4141.0},{\"id\":\"flare.query.Distinct\",\"value\":933.0},{\"id\":\"flare.query.Expression\",\"value\":5130.0},{\"id\":\"flare.query.ExpressionIterator\",\"value\":3617.0},{\"id\":\"flare.query.Fn\",\"value\":3240.0},{\"id\":\"flare.query.If\",\"value\":2732.0},{\"id\":\"flare.query.IsA\",\"value\":2039.0},{\"id\":\"flare.query.Literal\",\"value\":1214.0},{\"id\":\"flare.query.Match\",\"value\":3748.0},{\"id\":\"flare.query.Maximum\",\"value\":843.0},{\"id\":\"flare.query.methods\",\"value\":null},{\"id\":\"flare.query.methods.add\",\"value\":593.0},{\"id\":\"flare.query.methods.and\",\"value\":330.0},{\"id\":\"flare.query.methods.average\",\"value\":287.0},{\"id\":\"flare.query.methods.count\",\"value\":277.0},{\"id\":\"flare.query.methods.distinct\",\"value\":292.0},{\"id\":\"flare.query.methods.div\",\"value\":595.0},{\"id\":\"flare.query.methods.eq\",\"value\":594.0},{\"id\":\"flare.query.methods.fn\",\"value\":460.0},{\"id\":\"flare.query.methods.gt\",\"value\":603.0},{\"id\":\"flare.query.methods.gte\",\"value\":625.0},{\"id\":\"flare.query.methods.iff\",\"value\":748.0},{\"id\":\"flare.query.methods.isa\",\"value\":461.0},{\"id\":\"flare.query.methods.lt\",\"value\":597.0},{\"id\":\"flare.query.methods.lte\",\"value\":619.0},{\"id\":\"flare.query.methods.max\",\"value\":283.0},{\"id\":\"flare.query.methods.min\",\"value\":283.0},{\"id\":\"flare.query.methods.mod\",\"value\":591.0},{\"id\":\"flare.query.methods.mul\",\"value\":603.0},{\"id\":\"flare.query.methods.neq\",\"value\":599.0},{\"id\":\"flare.query.methods.not\",\"value\":386.0},{\"id\":\"flare.query.methods.or\",\"value\":323.0},{\"id\":\"flare.query.methods.orderby\",\"value\":307.0},{\"id\":\"flare.query.methods.range\",\"value\":772.0},{\"id\":\"flare.query.methods.select\",\"value\":296.0},{\"id\":\"flare.query.methods.stddev\",\"value\":363.0},{\"id\":\"flare.query.methods.sub\",\"value\":600.0},{\"id\":\"flare.query.methods.sum\",\"value\":280.0},{\"id\":\"flare.query.methods.update\",\"value\":307.0},{\"id\":\"flare.query.methods.variance\",\"value\":335.0},{\"id\":\"flare.query.methods.where\",\"value\":299.0},{\"id\":\"flare.query.methods.xor\",\"value\":354.0},{\"id\":\"flare.query.methods._\",\"value\":264.0},{\"id\":\"flare.query.Minimum\",\"value\":843.0},{\"id\":\"flare.query.Not\",\"value\":1554.0},{\"id\":\"flare.query.Or\",\"value\":970.0},{\"id\":\"flare.query.Query\",\"value\":13896.0},{\"id\":\"flare.query.Range\",\"value\":1594.0},{\"id\":\"flare.query.StringUtil\",\"value\":4130.0},{\"id\":\"flare.query.Sum\",\"value\":791.0},{\"id\":\"flare.query.Variable\",\"value\":1124.0},{\"id\":\"flare.query.Variance\",\"value\":1876.0},{\"id\":\"flare.query.Xor\",\"value\":1101.0},{\"id\":\"flare.scale\",\"value\":null},{\"id\":\"flare.scale.IScaleMap\",\"value\":2105.0},{\"id\":\"flare.scale.LinearScale\",\"value\":1316.0},{\"id\":\"flare.scale.LogScale\",\"value\":3151.0},{\"id\":\"flare.scale.OrdinalScale\",\"value\":3770.0},{\"id\":\"flare.scale.QuantileScale\",\"value\":2435.0},{\"id\":\"flare.scale.QuantitativeScale\",\"value\":4839.0},{\"id\":\"flare.scale.RootScale\",\"value\":1756.0},{\"id\":\"flare.scale.Scale\",\"value\":4268.0},{\"id\":\"flare.scale.ScaleType\",\"value\":1821.0},{\"id\":\"flare.scale.TimeScale\",\"value\":5833.0},{\"id\":\"flare.util\",\"value\":null},{\"id\":\"flare.util.Arrays\",\"value\":8258.0},{\"id\":\"flare.util.Colors\",\"value\":10001.0},{\"id\":\"flare.util.Dates\",\"value\":8217.0},{\"id\":\"flare.util.Displays\",\"value\":12555.0},{\"id\":\"flare.util.Filter\",\"value\":2324.0},{\"id\":\"flare.util.Geometry\",\"value\":10993.0},{\"id\":\"flare.util.heap\",\"value\":null},{\"id\":\"flare.util.heap.FibonacciHeap\",\"value\":9354.0},{\"id\":\"flare.util.heap.HeapNode\",\"value\":1233.0},{\"id\":\"flare.util.IEvaluable\",\"value\":335.0},{\"id\":\"flare.util.IPredicate\",\"value\":383.0},{\"id\":\"flare.util.IValueProxy\",\"value\":874.0},{\"id\":\"flare.util.math\",\"value\":null},{\"id\":\"flare.util.math.DenseMatrix\",\"value\":3165.0},{\"id\":\"flare.util.math.IMatrix\",\"value\":2815.0},{\"id\":\"flare.util.math.SparseMatrix\",\"value\":3366.0},{\"id\":\"flare.util.Maths\",\"value\":17705.0},{\"id\":\"flare.util.Orientation\",\"value\":1486.0},{\"id\":\"flare.util.palette\",\"value\":null},{\"id\":\"flare.util.palette.ColorPalette\",\"value\":6367.0},{\"id\":\"flare.util.palette.Palette\",\"value\":1229.0},{\"id\":\"flare.util.palette.ShapePalette\",\"value\":2059.0},{\"id\":\"flare.util.palette.SizePalette\",\"value\":2291.0},{\"id\":\"flare.util.Property\",\"value\":5559.0},{\"id\":\"flare.util.Shapes\",\"value\":19118.0},{\"id\":\"flare.util.Sort\",\"value\":6887.0},{\"id\":\"flare.util.Stats\",\"value\":6557.0},{\"id\":\"flare.util.Strings\",\"value\":22026.0},{\"id\":\"flare.vis\",\"value\":null},{\"id\":\"flare.vis.axis\",\"value\":null},{\"id\":\"flare.vis.axis.Axes\",\"value\":1302.0},{\"id\":\"flare.vis.axis.Axis\",\"value\":24593.0},{\"id\":\"flare.vis.axis.AxisGridLine\",\"value\":652.0},{\"id\":\"flare.vis.axis.AxisLabel\",\"value\":636.0},{\"id\":\"flare.vis.axis.CartesianAxes\",\"value\":6703.0},{\"id\":\"flare.vis.controls\",\"value\":null},{\"id\":\"flare.vis.controls.AnchorControl\",\"value\":2138.0},{\"id\":\"flare.vis.controls.ClickControl\",\"value\":3824.0},{\"id\":\"flare.vis.controls.Control\",\"value\":1353.0},{\"id\":\"flare.vis.controls.ControlList\",\"value\":4665.0},{\"id\":\"flare.vis.controls.DragControl\",\"value\":2649.0},{\"id\":\"flare.vis.controls.ExpandControl\",\"value\":2832.0},{\"id\":\"flare.vis.controls.HoverControl\",\"value\":4896.0},{\"id\":\"flare.vis.controls.IControl\",\"value\":763.0},{\"id\":\"flare.vis.controls.PanZoomControl\",\"value\":5222.0},{\"id\":\"flare.vis.controls.SelectionControl\",\"value\":7862.0},{\"id\":\"flare.vis.controls.TooltipControl\",\"value\":8435.0},{\"id\":\"flare.vis.data\",\"value\":null},{\"id\":\"flare.vis.data.Data\",\"value\":20544.0},{\"id\":\"flare.vis.data.DataList\",\"value\":19788.0},{\"id\":\"flare.vis.data.DataSprite\",\"value\":10349.0},{\"id\":\"flare.vis.data.EdgeSprite\",\"value\":3301.0},{\"id\":\"flare.vis.data.NodeSprite\",\"value\":19382.0},{\"id\":\"flare.vis.data.render\",\"value\":null},{\"id\":\"flare.vis.data.render.ArrowType\",\"value\":698.0},{\"id\":\"flare.vis.data.render.EdgeRenderer\",\"value\":5569.0},{\"id\":\"flare.vis.data.render.IRenderer\",\"value\":353.0},{\"id\":\"flare.vis.data.render.ShapeRenderer\",\"value\":2247.0},{\"id\":\"flare.vis.data.ScaleBinding\",\"value\":11275.0},{\"id\":\"flare.vis.data.Tree\",\"value\":7147.0},{\"id\":\"flare.vis.data.TreeBuilder\",\"value\":9930.0},{\"id\":\"flare.vis.events\",\"value\":null},{\"id\":\"flare.vis.events.DataEvent\",\"value\":2313.0},{\"id\":\"flare.vis.events.SelectionEvent\",\"value\":1880.0},{\"id\":\"flare.vis.events.TooltipEvent\",\"value\":1701.0},{\"id\":\"flare.vis.events.VisualizationEvent\",\"value\":1117.0},{\"id\":\"flare.vis.legend\",\"value\":null},{\"id\":\"flare.vis.legend.Legend\",\"value\":20859.0},{\"id\":\"flare.vis.legend.LegendItem\",\"value\":4614.0},{\"id\":\"flare.vis.legend.LegendRange\",\"value\":10530.0},{\"id\":\"flare.vis.operator\",\"value\":null},{\"id\":\"flare.vis.operator.distortion\",\"value\":null},{\"id\":\"flare.vis.operator.distortion.BifocalDistortion\",\"value\":4461.0},{\"id\":\"flare.vis.operator.distortion.Distortion\",\"value\":6314.0},{\"id\":\"flare.vis.operator.distortion.FisheyeDistortion\",\"value\":3444.0},{\"id\":\"flare.vis.operator.encoder\",\"value\":null},{\"id\":\"flare.vis.operator.encoder.ColorEncoder\",\"value\":3179.0},{\"id\":\"flare.vis.operator.encoder.Encoder\",\"value\":4060.0},{\"id\":\"flare.vis.operator.encoder.PropertyEncoder\",\"value\":4138.0},{\"id\":\"flare.vis.operator.encoder.ShapeEncoder\",\"value\":1690.0},{\"id\":\"flare.vis.operator.encoder.SizeEncoder\",\"value\":1830.0},{\"id\":\"flare.vis.operator.filter\",\"value\":null},{\"id\":\"flare.vis.operator.filter.FisheyeTreeFilter\",\"value\":5219.0},{\"id\":\"flare.vis.operator.filter.GraphDistanceFilter\",\"value\":3165.0},{\"id\":\"flare.vis.operator.filter.VisibilityFilter\",\"value\":3509.0},{\"id\":\"flare.vis.operator.IOperator\",\"value\":1286.0},{\"id\":\"flare.vis.operator.label\",\"value\":null},{\"id\":\"flare.vis.operator.label.Labeler\",\"value\":9956.0},{\"id\":\"flare.vis.operator.label.RadialLabeler\",\"value\":3899.0},{\"id\":\"flare.vis.operator.label.StackedAreaLabeler\",\"value\":3202.0},{\"id\":\"flare.vis.operator.layout\",\"value\":null},{\"id\":\"flare.vis.operator.layout.AxisLayout\",\"value\":6725.0},{\"id\":\"flare.vis.operator.layout.BundledEdgeRouter\",\"value\":3727.0},{\"id\":\"flare.vis.operator.layout.CircleLayout\",\"value\":9317.0},{\"id\":\"flare.vis.operator.layout.CirclePackingLayout\",\"value\":12003.0},{\"id\":\"flare.vis.operator.layout.DendrogramLayout\",\"value\":4853.0},{\"id\":\"flare.vis.operator.layout.ForceDirectedLayout\",\"value\":8411.0},{\"id\":\"flare.vis.operator.layout.IcicleTreeLayout\",\"value\":4864.0},{\"id\":\"flare.vis.operator.layout.IndentedTreeLayout\",\"value\":3174.0},{\"id\":\"flare.vis.operator.layout.Layout\",\"value\":7881.0},{\"id\":\"flare.vis.operator.layout.NodeLinkTreeLayout\",\"value\":12870.0},{\"id\":\"flare.vis.operator.layout.PieLayout\",\"value\":2728.0},{\"id\":\"flare.vis.operator.layout.RadialTreeLayout\",\"value\":12348.0},{\"id\":\"flare.vis.operator.layout.RandomLayout\",\"value\":870.0},{\"id\":\"flare.vis.operator.layout.StackedAreaLayout\",\"value\":9121.0},{\"id\":\"flare.vis.operator.layout.TreeMapLayout\",\"value\":9191.0},{\"id\":\"flare.vis.operator.Operator\",\"value\":2490.0},{\"id\":\"flare.vis.operator.OperatorList\",\"value\":5248.0},{\"id\":\"flare.vis.operator.OperatorSequence\",\"value\":4190.0},{\"id\":\"flare.vis.operator.OperatorSwitch\",\"value\":2581.0},{\"id\":\"flare.vis.operator.SortOperator\",\"value\":2023.0},{\"id\":\"flare.vis.Visualization\",\"value\":16540.0}], {}, 800, 1700);\n",
       "        })();\n",
       "        </script>"
      ],
      "text/plain": [
       "<IPython.core.display.HTML object>"
      ]
     },
     "metadata": {},
     "output_type": "display_data"
    }
   ],
   "source": [
    "p3d3.p3d3(dendo, \"dendogram.js\", height=1700)"
   ]
  },
  {
   "cell_type": "code",
   "execution_count": null,
   "metadata": {},
   "outputs": [],
   "source": []
  }
 ],
 "metadata": {
  "kernelspec": {
   "display_name": "SSH root@p3d3_test ",
   "language": "",
   "name": "rik_ssh_root_p3d3_test_"
  },
  "language_info": {
   "codemirror_mode": {
    "name": "ipython",
    "version": 3
   },
   "file_extension": ".py",
   "mimetype": "text/x-python",
   "name": "python",
   "nbconvert_exporter": "python",
   "pygments_lexer": "ipython3",
   "version": "3.6.3"
  },
  "toc": {
   "nav_menu": {},
   "number_sections": true,
   "sideBar": true,
   "skip_h1_title": false,
   "toc_cell": false,
   "toc_position": {},
   "toc_section_display": "block",
   "toc_window_display": false
  }
 },
 "nbformat": 4,
 "nbformat_minor": 2
}
